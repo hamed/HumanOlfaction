{
 "cells": [
  {
   "cell_type": "code",
   "execution_count": 18,
   "metadata": {
    "collapsed": false
   },
   "outputs": [],
   "source": [
    "import numpy as np\n",
    "import pandas as pd\n",
    "from scipy.stats import norm\n",
    "import matplotlib.pyplot as plt\n",
    "%matplotlib inline\n",
    "\n",
    "import sys\n",
    "#print (sys.path)\n",
    "sys.path.append('/home/gf/pakages/miniconda3/lib64/python3.5/site-packages/rpy2-2.8.3-py3.5-linux-x86_64.egg/')\n",
    "\n",
    "ps_full = pd.read_table('../data/PrimaryScreen.tsv')\n",
    "odors = pd.read_table(\"../data/Odors.tsv\")\n",
    "receptors = pd.read_table(\"../data/Receptors.tsv\")\n",
    "ps = ps_full\n",
    "ps['NormalizedLuc'] = ps['Luc'] #/ps['RL']\n",
    "#ps['NormalizedLuc'] = (ps['Luc'])**3/(ps['RL'])**1.2"
   ]
  },
  {
   "cell_type": "code",
   "execution_count": 19,
   "metadata": {
    "collapsed": false
   },
   "outputs": [
    {
     "data": {
      "image/png": "[encoded data removed]",
      "text/plain": [
       "<matplotlib.figure.Figure at 0x7fbfede24860>"
      ]
     },
     "metadata": {},
     "output_type": "display_data"
    }
   ],
   "source": [
    "ps1 = ps[ ps['Odor'] != 9999] # Has an odor\n",
    "ps0 = ps[ ps['Odor'] == 9999] # no-odor control\n",
    "base_names=[\"Plate0\", \"Well0\", \"Concentration0\", \"Luc0\",\"RL0\", \"OR\", \"Odor0\", \"Date\", \"NormalizedLucBase\"]\n",
    "ps0 = ps0.rename(columns=dict(zip(ps0.columns.tolist(), base_names)))\n",
    "\n",
    "psmerge = pd.merge(ps1, ps0, on=[\"OR\", \"Date\"])\n",
    "psmerge['Baselined'] = psmerge['NormalizedLuc']-psmerge['NormalizedLucBase']\n",
    "\n",
    "def rank(col):\n",
    "    df = pd.DataFrame()\n",
    "    r1 = col.sort_values().index.values\n",
    "    df['i'] = np.arange(1,r1.shape[0]+1)\n",
    "    df['rank'] = r1\n",
    "    df = df.set_index('i') \n",
    "    return df['rank'].sort_values().index.values\n",
    "\n",
    "psmerge['PrimaryScreenRank'] = psmerge['NormalizedLucBase'].shape[0] - rank(psmerge['Baselined'])\n",
    "\n",
    "psmerge['Baselined'].hist(bins=100, bottom=0.1)\n",
    "plt.yscale(\"log\", nonposx='clip')"
   ]
  },
  {
   "cell_type": "code",
   "execution_count": 20,
   "metadata": {
    "collapsed": false
   },
   "outputs": [],
   "source": [
    "ss = pd.read_table(\"../data/SecondaryScreen.tsv\")\n",
    "\n",
    "from statsmodels.formula.api import ols\n",
    "from statsmodels.stats.anova import anova_lm\n",
    "\n",
    "def aov(ssn):\n",
    "    formula = 'NormalizedLuc ~ Concentration'\n",
    "    model = ols(formula, ssn).fit()\n",
    "    aov_table = anova_lm(model, typ=2)\n",
    "    return aov_table['PR(>F)']['Concentration']\n",
    "\n",
    "res=[[k[0],k[1],aov(gp)] for k, gp in ss.groupby(['Odor','OR'])]\n",
    "\n",
    "ssResults = pd.DataFrame([], columns=['Odor','OR','UncorrectedSecondaryP','TestedInSecondary'])\n",
    "for k, gp in ss.groupby(['Odor','OR']):\n",
    "    ssResults = ssResults.append(pd.DataFrame([[k[0],k[1],aov(gp),1]], \n",
    "                                              columns=['Odor','OR','UncorrectedSecondaryP','TestedInSecondary']))\n",
    "from rpy2.robjects.packages import importr\n",
    "from rpy2.robjects.vectors import FloatVector\n",
    "\n",
    "stats = importr('stats')\n",
    "\n",
    "ssResults['SecondaryP'] = stats.p_adjust(FloatVector(ssResults['UncorrectedSecondaryP'].values), method = 'fdr')\n",
    "ssResults['PassedSecondary'] = ssResults['SecondaryP']<0.05"
   ]
  },
  {
   "cell_type": "code",
   "execution_count": 21,
   "metadata": {
    "collapsed": false
   },
   "outputs": [
    {
     "data": {
      "text/plain": [
       "<matplotlib.legend.Legend at 0x7fbfed0b90f0>"
      ]
     },
     "execution_count": 21,
     "metadata": {},
     "output_type": "execute_result"
    },
    {
     "data": {
      "image/png": "[encoded data removed]",
      "text/plain": [
       "<matplotlib.figure.Figure at 0x7fbfecf79668>"
      ]
     },
     "metadata": {},
     "output_type": "display_data"
    }
   ],
   "source": [
    "psROC1 = pd.merge(psmerge[[\"OR\",\"Odor\",\"Baselined\"]], ssResults, on=[\"OR\",\"Odor\"],how='outer')\n",
    "psROC1['TestedInPrimary'] = 1\n",
    "psROC1['TestedInSecondary'] = psROC1['TestedInSecondary'].fillna(0)\n",
    "psROC1 = psROC1[~psROC1['Baselined'].isnull()]\n",
    "\n",
    "grp = psROC1['PassedSecondary']\n",
    "pred = psROC1['Baselined']\n",
    "usegrp = ~psROC1['PassedSecondary'].isnull()#.fillna(False)\n",
    "usepred = ~psROC1['Baselined'].isnull()\n",
    "grp = grp[usegrp & usepred]\n",
    "pred = pred[usegrp & usepred]\n",
    "\n",
    "a = pd.concat([pred,grp], axis=1).set_index('Baselined').sort_index().rename(columns={'PassedSecondary': 'False'})\n",
    "a['True'] = a['False']\n",
    "a['True'] = np.where(a['True'],1,0)\n",
    "a['False'] = np.where(a['False'],0,1)\n",
    "a['True'] = np.cumsum(a['True'])\n",
    "a['False'] = np.cumsum(a['False'])\n",
    "tn = a['True']\n",
    "fn = a['False']\n",
    "tp = fn[sorted(fn.keys())[-1]] - fn\n",
    "fp = tn[sorted(tn.keys())[-1]] - tn\n",
    "tpr = tp / (tp + fn)\n",
    "fpr = fp / (fp + tn)\n",
    "roc = pd.concat([fpr,tpr], axis=1).sort_index(ascending=False)\n",
    "roc.rename(columns={'False':'x','True':'y'}, inplace=True)\n",
    "\n",
    "auc = 0\n",
    "for i in range(2,roc.shape[0]):\n",
    "    auc += (roc['x'].values[i] - roc['x'].values[i - 1])*(roc['y'].values[i] + roc['y'].values[i - 1])/2\n",
    "\n",
    "pos = pred[grp == True]\n",
    "neg = pred[grp == False]\n",
    "\n",
    "q1 = auc/(2-auc)\n",
    "q2 = (2*auc**2)/(1+auc)\n",
    "\n",
    "se_auc = np.sqrt((   (auc * (1 - auc)) + ((pos.shape[0] -1)*(q1 - auc**2))\n",
    "      + ((neg.shape[0] -1)*(q2 - auc**2)))/(pos.shape[0]*neg.shape[0]))\n",
    "ci_upper = auc + (se_auc * 0.96)\n",
    "ci_lower = auc - (se_auc * 0.96)\n",
    "\n",
    "se_auc_null = np.sqrt((1 + pos.shape[0] + neg.shape[0])/(12*pos.shape[0]*neg.shape[0]))\n",
    "z = (auc - 0.5)/se_auc_null\n",
    "p = 2*norm.ppf(-abs(z))\n",
    "\n",
    "\n",
    "plt.plot(roc['x'],roc['y'], 'r')\n",
    "x0 = np.linspace(0,1,roc.shape[0])\n",
    "\n",
    "s = \"AUC = %1.2f (95%%CL) %1.2f - %1.2f\"% (auc,ci_lower,ci_upper)\n",
    "plt.plot(roc['x'],roc['y'], 'r', label=s)\n",
    "plt.plot(x0,x0, 'k--', label=\"line of no discrimination\")\n",
    "\n",
    "plt.xlabel(r\"$False\\ Positive\\ Rate\\ (1-Specificity)$\",fontsize=13)\n",
    "plt.ylabel(r\"$True\\ Positive\\ Rate\\ (Sensitivity)$\",fontsize=13)\n",
    "\n",
    "plt.legend(loc='best', frameon=False)"
   ]
  },
  {
   "cell_type": "code",
   "execution_count": 4,
   "metadata": {
    "collapsed": false
   },
   "outputs": [
    {
     "data": {
      "text/plain": [
       "<matplotlib.figure.Figure at 0x7ff1f4db9a90>"
      ]
     },
     "metadata": {},
     "output_type": "display_data"
    }
   ],
   "source": [
    "plt.savefig('ROC.jpg')"
   ]
  },
  {
   "cell_type": "code",
   "execution_count": null,
   "metadata": {
    "collapsed": false
   },
   "outputs": [],
   "source": []
  },
  {
   "cell_type": "raw",
   "metadata": {},
   "source": []
  }
 ],
 "metadata": {
  "anaconda-cloud": {},
  "kernelspec": {
   "display_name": "Python 3",
   "language": "python",
   "name": "python3"
  },
  "language_info": {
   "codemirror_mode": {
    "name": "ipython",
    "version": 3
   },
   "file_extension": ".py",
   "mimetype": "text/x-python",
   "name": "python",
   "nbconvert_exporter": "python",
   "pygments_lexer": "ipython3",
   "version": "3.4.3"
  }
 },
 "nbformat": 4,
 "nbformat_minor": 0
}

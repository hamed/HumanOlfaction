{
 "cells": [
  {
   "cell_type": "markdown",
   "metadata": {},
   "source": [
    "# Normalizing Dual Luciferase Assay System\n",
    "\n",
    "**Dual Luciferase Assay System** produces 2 signals. One of them (Luc) is the signal of interest like the response of the cell to an odorant, and the other one (RL) is only a mean to normalize the first signal to, and it supposed to capture parameters like the  transfection efficiency. \n",
    "\n",
    "In this notebook, we show that we are better off without the normalization signal RL, at least in the data of Human olfactory system. Probably the reading of RL is noisier than variation of transfection efficiency and cell \n",
    "\n",
    "We propose another way to normalize data of plates to consider the variability among trials.\n"
   ]
  },
  {
   "cell_type": "code",
   "execution_count": 1,
   "metadata": {
    "collapsed": false
   },
   "outputs": [],
   "source": [
    "# Loading libraries\n",
    "import numpy as np\n",
    "import pandas as pd\n",
    "%matplotlib inline\n",
    "import matplotlib.pyplot as plt\n",
    "import seaborn as sns\n",
    "\n",
    "plt.rcParams['figure.figsize'] = 6, 3\n",
    "plt.rcParams['figure.dpi'] = 150"
   ]
  },
  {
   "cell_type": "markdown",
   "metadata": {},
   "source": [
    "The experiment has 3 parts. The first part is called *primary* through out the article and its data are in PrimaryScreen.tsv.\n",
    "\n",
    "The name of Odorant Receptors (OR) are in Receptors.tsv, we join the two tables and print out few of its lines too check the data."
   ]
  },
  {
   "cell_type": "code",
   "execution_count": 2,
   "metadata": {
    "collapsed": false
   },
   "outputs": [
    {
     "name": "stdout",
     "output_type": "stream",
     "text": [
      "(50016, 14)\n"
     ]
    },
    {
     "data": {
      "text/html": [
       "<div>\n",
       "<table border=\"1\" class=\"dataframe\">\n",
       "  <thead>\n",
       "    <tr style=\"text-align: right;\">\n",
       "      <th></th>\n",
       "      <th>Plate</th>\n",
       "      <th>Well</th>\n",
       "      <th>Concentration</th>\n",
       "      <th>Luc</th>\n",
       "      <th>RL</th>\n",
       "      <th>OR</th>\n",
       "      <th>Odor</th>\n",
       "      <th>Date</th>\n",
       "      <th>Gene</th>\n",
       "      <th>OdorName</th>\n",
       "      <th>log_Luc</th>\n",
       "      <th>log_RL</th>\n",
       "      <th>log_normalized</th>\n",
       "      <th>normalized_log</th>\n",
       "    </tr>\n",
       "  </thead>\n",
       "  <tbody>\n",
       "    <tr>\n",
       "      <th>0</th>\n",
       "      <td>1</td>\n",
       "      <td>1</td>\n",
       "      <td>100.0</td>\n",
       "      <td>3516.0</td>\n",
       "      <td>10770.0</td>\n",
       "      <td>1024.0</td>\n",
       "      <td>1116.0</td>\n",
       "      <td>61009</td>\n",
       "      <td>OR10K1</td>\n",
       "      <td>Cyclohexanone</td>\n",
       "      <td>8.165079</td>\n",
       "      <td>9.284520</td>\n",
       "      <td>-1.119441</td>\n",
       "      <td>0.879429</td>\n",
       "    </tr>\n",
       "    <tr>\n",
       "      <th>1</th>\n",
       "      <td>1</td>\n",
       "      <td>2</td>\n",
       "      <td>100.0</td>\n",
       "      <td>3264.0</td>\n",
       "      <td>10126.0</td>\n",
       "      <td>1032.0</td>\n",
       "      <td>1116.0</td>\n",
       "      <td>61009</td>\n",
       "      <td>OR10T2</td>\n",
       "      <td>Cyclohexanone</td>\n",
       "      <td>8.090709</td>\n",
       "      <td>9.222862</td>\n",
       "      <td>-1.132153</td>\n",
       "      <td>0.877245</td>\n",
       "    </tr>\n",
       "    <tr>\n",
       "      <th>2</th>\n",
       "      <td>1</td>\n",
       "      <td>3</td>\n",
       "      <td>100.0</td>\n",
       "      <td>3598.0</td>\n",
       "      <td>10664.0</td>\n",
       "      <td>1040.0</td>\n",
       "      <td>1116.0</td>\n",
       "      <td>61009</td>\n",
       "      <td>OR10K2</td>\n",
       "      <td>Cyclohexanone</td>\n",
       "      <td>8.188133</td>\n",
       "      <td>9.274629</td>\n",
       "      <td>-1.086495</td>\n",
       "      <td>0.882853</td>\n",
       "    </tr>\n",
       "    <tr>\n",
       "      <th>3</th>\n",
       "      <td>1</td>\n",
       "      <td>4</td>\n",
       "      <td>100.0</td>\n",
       "      <td>1624.0</td>\n",
       "      <td>7524.0</td>\n",
       "      <td>1049.0</td>\n",
       "      <td>1116.0</td>\n",
       "      <td>61009</td>\n",
       "      <td>OR2T34</td>\n",
       "      <td>Cyclohexanone</td>\n",
       "      <td>7.392648</td>\n",
       "      <td>8.925853</td>\n",
       "      <td>-1.533206</td>\n",
       "      <td>0.828229</td>\n",
       "    </tr>\n",
       "    <tr>\n",
       "      <th>4</th>\n",
       "      <td>1</td>\n",
       "      <td>5</td>\n",
       "      <td>100.0</td>\n",
       "      <td>2198.0</td>\n",
       "      <td>15474.0</td>\n",
       "      <td>1057.0</td>\n",
       "      <td>1116.0</td>\n",
       "      <td>61009</td>\n",
       "      <td>OR2V2 H221R</td>\n",
       "      <td>Cyclohexanone</td>\n",
       "      <td>7.695303</td>\n",
       "      <td>9.646916</td>\n",
       "      <td>-1.951613</td>\n",
       "      <td>0.797696</td>\n",
       "    </tr>\n",
       "  </tbody>\n",
       "</table>\n",
       "</div>"
      ],
      "text/plain": [
       "   Plate  Well  Concentration     Luc       RL      OR    Odor   Date  \\\n",
       "0      1     1          100.0  3516.0  10770.0  1024.0  1116.0  61009   \n",
       "1      1     2          100.0  3264.0  10126.0  1032.0  1116.0  61009   \n",
       "2      1     3          100.0  3598.0  10664.0  1040.0  1116.0  61009   \n",
       "3      1     4          100.0  1624.0   7524.0  1049.0  1116.0  61009   \n",
       "4      1     5          100.0  2198.0  15474.0  1057.0  1116.0  61009   \n",
       "\n",
       "           Gene       OdorName   log_Luc    log_RL  log_normalized  \\\n",
       "0        OR10K1  Cyclohexanone  8.165079  9.284520       -1.119441   \n",
       "1        OR10T2  Cyclohexanone  8.090709  9.222862       -1.132153   \n",
       "2        OR10K2  Cyclohexanone  8.188133  9.274629       -1.086495   \n",
       "3      OR2T34    Cyclohexanone  7.392648  8.925853       -1.533206   \n",
       "4  OR2V2 H221R   Cyclohexanone  7.695303  9.646916       -1.951613   \n",
       "\n",
       "   normalized_log  \n",
       "0        0.879429  \n",
       "1        0.877245  \n",
       "2        0.882853  \n",
       "3        0.828229  \n",
       "4        0.797696  "
      ]
     },
     "execution_count": 2,
     "metadata": {},
     "output_type": "execute_result"
    }
   ],
   "source": [
    "primary = pd.read_table('../data/PrimaryScreen.tsv')\n",
    "OR = pd.read_table('../data/Receptors.tsv', index_col='OR')\n",
    "\n",
    "odor = pd.read_table('../data/Odors.tsv', index_col='Odor')\n",
    "odor.loc[9999,'OdorName'] = 'no odor'  # 9999 means there is no odorant\n",
    "\n",
    "primary = primary.join(OR[['Gene']], on=\"OR\")\n",
    "primary = primary.join(odor[['OdorName']], on=\"Odor\")\n",
    "\n",
    "test_or = 'Olfr544' \n",
    "\n",
    "primary.dropna(inplace=True) #removing missing data\n",
    "\n",
    "primary['log_Luc'] = np.log(primary.Luc)\n",
    "primary['log_RL'] = np.log(primary.RL)\n",
    "primary['log_normalized'] = np.log(primary.Luc/primary.RL)\n",
    "primary['normalized_log'] = primary.log_Luc/primary.log_RL\n",
    "\n",
    "print(primary.shape)\n",
    "primary.head()"
   ]
  },
  {
   "cell_type": "markdown",
   "metadata": {},
   "source": [
    "![](https://images.nature.com/w926/nature-assets/sdata/2015/sdata20152/images_hires/sdata20152-f4.jpg)\n",
    "\n",
    "A plate has 96 well in which 6 of them (green wells) were assigned to *Olfr544* receptor. 3 out of 6 were challenged with its ligand *nonanedioic acid* and the other three remained odorless (dark and light shades of green respectively). The data about this pair is abundant, so we focus on this pair to investigate the limits of the technique. Here we select *Olfr544* wells:"
   ]
  },
  {
   "cell_type": "code",
   "execution_count": 3,
   "metadata": {
    "collapsed": false
   },
   "outputs": [],
   "source": [
    "test = primary[primary.Gene == test_or].copy()"
   ]
  },
  {
   "cell_type": "code",
   "execution_count": 4,
   "metadata": {
    "collapsed": false
   },
   "outputs": [
    {
     "data": {
      "text/plain": [
       "0.0     1626\n",
       "10.0    1374\n",
       "1.0      252\n",
       "Name: Concentration, dtype: int64"
      ]
     },
     "execution_count": 4,
     "metadata": {},
     "output_type": "execute_result"
    }
   ],
   "source": [
    "test.Concentration.value_counts()"
   ]
  },
  {
   "cell_type": "code",
   "execution_count": 5,
   "metadata": {
    "collapsed": false
   },
   "outputs": [
    {
     "data": {
      "image/png": "[encoded data removed]",
      "text/plain": [
       "<matplotlib.figure.Figure at 0x7f1610686a58>"
      ]
     },
     "metadata": {},
     "output_type": "display_data"
    }
   ],
   "source": [
    "g = test.groupby('Concentration')\n",
    "g.log_Luc.hist(bins=20, normed=True, alpha=0.5)\n",
    "plt.legend(g.groups.keys());\n",
    "plt.title('Raw Histogram of Test Wells')\n",
    "plt.xlabel(\"log(Luc)\")\n",
    "plt.savefig('../fig/raw_histogram.pdf', frameon=True)"
   ]
  },
  {
   "cell_type": "markdown",
   "metadata": {},
   "source": [
    "There are two inconsistency in the data. First, the Luc signal of *Olfr544* challenged by 1 μM of *nonanedioic acid* is far more than those challenged by 10 μM. There is also a second peak at the zero concentration. Lets remove the data of  1 μM and see what happens."
   ]
  },
  {
   "cell_type": "code",
   "execution_count": 6,
   "metadata": {
    "collapsed": false
   },
   "outputs": [
    {
     "data": {
      "image/png": "[encoded data removed]",
      "text/plain": [
       "<matplotlib.figure.Figure at 0x7f15db748dd8>"
      ]
     },
     "metadata": {},
     "output_type": "display_data"
    }
   ],
   "source": [
    "test['c_is_1'] = (test.Concentration == 1)\n",
    "tmp = pd.DataFrame(test.groupby(['Date', 'Plate']).c_is_1.max())\n",
    "tmp.columns=['has_c_1']\n",
    "#test.drop('c_is_1', axis=1, inplace=True)\n",
    "primary = primary.join(tmp, on=['Date','Plate'])\n",
    "\n",
    "test = primary[(~primary.has_c_1) & (primary.Gene == test_or)].copy()\n",
    "\n",
    "g = test.groupby('Concentration')\n",
    "g.log_Luc.hist(bins=20, normed=True, alpha=0.5)\n",
    "plt.legend(g.groups.keys());\n",
    "plt.title('Cleaned Histogram of Test Wells')\n",
    "plt.xlabel(\"log(Luc)\")\n",
    "plt.savefig('../fig/cleaned_histogram.pdf')"
   ]
  },
  {
   "cell_type": "markdown",
   "metadata": {},
   "source": [
    "Now the data looks more consistent. The second peak at zero concentration is also gone. There is a small overlap between baseline (zero concentration of odorant) and the signal (10 μM). We hope that normalizing Luc by RL improves that (Luc/RL). "
   ]
  },
  {
   "cell_type": "code",
   "execution_count": 7,
   "metadata": {
    "collapsed": false
   },
   "outputs": [
    {
     "data": {
      "image/png": "[encoded data removed]",
      "text/plain": [
       "<matplotlib.figure.Figure at 0x7f15db6b7908>"
      ]
     },
     "metadata": {},
     "output_type": "display_data"
    }
   ],
   "source": [
    "g.log_normalized.hist(bins=20, normed=True, alpha=0.5)\n",
    "plt.title('Histogram of Normalized Test Wells')\n",
    "plt.xlabel(\"log(Luc/RL)\")\n",
    "plt.savefig('../fig/normalized_histogram.pdf')"
   ]
  },
  {
   "cell_type": "markdown",
   "metadata": {},
   "source": [
    "The act of normalization increased the overlap of baseline and signal, the normalization has degregaded the signal. This is strange. Let look at correlations."
   ]
  },
  {
   "cell_type": "code",
   "execution_count": 8,
   "metadata": {
    "collapsed": false
   },
   "outputs": [
    {
     "data": {
      "text/html": [
       "<div>\n",
       "<table border=\"1\" class=\"dataframe\">\n",
       "  <thead>\n",
       "    <tr style=\"text-align: right;\">\n",
       "      <th></th>\n",
       "      <th>Luc</th>\n",
       "      <th>RL</th>\n",
       "    </tr>\n",
       "  </thead>\n",
       "  <tbody>\n",
       "    <tr>\n",
       "      <th>Luc</th>\n",
       "      <td>1.000000</td>\n",
       "      <td>0.406954</td>\n",
       "    </tr>\n",
       "    <tr>\n",
       "      <th>RL</th>\n",
       "      <td>0.406954</td>\n",
       "      <td>1.000000</td>\n",
       "    </tr>\n",
       "  </tbody>\n",
       "</table>\n",
       "</div>"
      ],
      "text/plain": [
       "          Luc        RL\n",
       "Luc  1.000000  0.406954\n",
       "RL   0.406954  1.000000"
      ]
     },
     "execution_count": 8,
     "metadata": {},
     "output_type": "execute_result"
    }
   ],
   "source": [
    "test.loc[test.Concentration == 0,['Luc', 'RL']].corr(method='spearman')"
   ]
  },
  {
   "cell_type": "code",
   "execution_count": 9,
   "metadata": {
    "collapsed": false
   },
   "outputs": [
    {
     "data": {
      "text/html": [
       "<div>\n",
       "<table border=\"1\" class=\"dataframe\">\n",
       "  <thead>\n",
       "    <tr style=\"text-align: right;\">\n",
       "      <th></th>\n",
       "      <th>Luc</th>\n",
       "      <th>RL</th>\n",
       "    </tr>\n",
       "  </thead>\n",
       "  <tbody>\n",
       "    <tr>\n",
       "      <th>Luc</th>\n",
       "      <td>1.000000</td>\n",
       "      <td>0.088009</td>\n",
       "    </tr>\n",
       "    <tr>\n",
       "      <th>RL</th>\n",
       "      <td>0.088009</td>\n",
       "      <td>1.000000</td>\n",
       "    </tr>\n",
       "  </tbody>\n",
       "</table>\n",
       "</div>"
      ],
      "text/plain": [
       "          Luc        RL\n",
       "Luc  1.000000  0.088009\n",
       "RL   0.088009  1.000000"
      ]
     },
     "execution_count": 9,
     "metadata": {},
     "output_type": "execute_result"
    }
   ],
   "source": [
    "test.loc[test.Concentration == 10,['Luc', 'RL']].corr(method='spearman')"
   ]
  },
  {
   "cell_type": "markdown",
   "metadata": {},
   "source": [
    "There is a correlation between Luc and RL at the baseline. But for the signal, the correlation is very small and it might be statistically insignificant (I should do a test, let do it later). \n",
    "\n",
    "## A classifier to discriminate between baseline and signal\n",
    "\n",
    "I train a simple Gaussian Naive Bayes classifier on different subset of features and monitor the performance using 5 fold cross validation. "
   ]
  },
  {
   "cell_type": "code",
   "execution_count": 10,
   "metadata": {
    "collapsed": false
   },
   "outputs": [],
   "source": [
    "# Load the classifiers\n",
    "\n",
    "from sklearn.naive_bayes import GaussianNB\n",
    "from sklearn.model_selection import StratifiedKFold, cross_val_score"
   ]
  },
  {
   "cell_type": "code",
   "execution_count": 11,
   "metadata": {
    "collapsed": false
   },
   "outputs": [
    {
     "name": "stdout",
     "output_type": "stream",
     "text": [
      "0.826792302588 0.00681552440476\n"
     ]
    }
   ],
   "source": [
    "# Naive Bayes on log(Luc/R)\n",
    "\n",
    "clf = GaussianNB()\n",
    "cv = StratifiedKFold(n_splits=5, shuffle=True, random_state=0) \n",
    "\n",
    "m = cross_val_score(clf, test[['log_normalized']], test.Concentration, cv=cv, scoring='accuracy')\n",
    "print(m.mean(), m.std())"
   ]
  },
  {
   "cell_type": "code",
   "execution_count": 12,
   "metadata": {
    "collapsed": false
   },
   "outputs": [
    {
     "name": "stdout",
     "output_type": "stream",
     "text": [
      "0.908662242867 0.00262176366864\n"
     ]
    }
   ],
   "source": [
    "# Naive Bayes on log(Luc)\n",
    "\n",
    "clf = GaussianNB()\n",
    "cv = StratifiedKFold(n_splits=5, shuffle=True, random_state=0) \n",
    "\n",
    "m = cross_val_score(clf, test[['log_Luc']], test.Concentration, cv=cv, scoring='accuracy')\n",
    "print(m.mean(), m.std())"
   ]
  },
  {
   "cell_type": "code",
   "execution_count": 13,
   "metadata": {
    "collapsed": false
   },
   "outputs": [
    {
     "name": "stdout",
     "output_type": "stream",
     "text": [
      "0.903566025216 0.00474332465858\n"
     ]
    }
   ],
   "source": [
    "# Naive Bayes on log(Luc) and log(R) together. \n",
    "\n",
    "clf = GaussianNB()\n",
    "\n",
    "cv = StratifiedKFold(n_splits=5, shuffle=True, random_state=0) \n",
    "\n",
    "m = cross_val_score(clf, test[['log_Luc', 'log_RL']], test.Concentration, cv=cv, scoring='accuracy')\n",
    "print(m.mean(), m.std())"
   ]
  },
  {
   "cell_type": "markdown",
   "metadata": {},
   "source": [
    "The accuracy on the normalized signal is about 0.83 which is not bad. But when we use the logarithm of the raw signal, the accuracy improves to about 0.91. Adding logarithm of RL as a separate feature, have no significant effect.\n",
    "\n",
    "## RL is irrelevant!\n",
    "\n",
    "RL is irrelevant, we are better of to use another method to account for the variabilities in the experiment. \n",
    "We calculate average of Luc and RL in each plate and for each concentration (0, and 10):"
   ]
  },
  {
   "cell_type": "code",
   "execution_count": 14,
   "metadata": {
    "collapsed": false
   },
   "outputs": [
    {
     "name": "stdout",
     "output_type": "stream",
     "text": [
      "\\begin{tabular}{llrrrr}\n",
      "\\toprule\n",
      "    &      &       Luc &           &        RL &           \\\\\n",
      "    &      &      0.0  &      10.0 &      0.0  &      10.0 \\\\\n",
      "{} & Concentration &           &           &           &           \\\\\n",
      "\\midrule\n",
      "Luc & 0.0  &  1.000000 &  0.526706 &  0.409388 &  0.356017 \\\\\n",
      "    & 10.0 &  0.526706 &  1.000000 & -0.004543 &  0.070109 \\\\\n",
      "RL & 0.0  &  0.409388 & -0.004543 &  1.000000 &  0.878681 \\\\\n",
      "    & 10.0 &  0.356017 &  0.070109 &  0.878681 &  1.000000 \\\\\n",
      "\\bottomrule\n",
      "\\end{tabular}\n",
      "\n"
     ]
    }
   ],
   "source": [
    "cor = test[['Date', 'Plate', 'Concentration', 'Luc', 'RL']].groupby(['Date', 'Plate', 'Concentration']).mean().unstack().corr(method='spearman')\n",
    "print(cor.to_latex())"
   ]
  },
  {
   "cell_type": "markdown",
   "metadata": {},
   "source": [
    "Luc at c = 10 is best correlated with Luc at c = 0. The correlation between Luc at c = 10 and RLs is negligible.\n",
    "We suggest to use the average of Luc of baseline test wells to normalize the whole plate. "
   ]
  },
  {
   "cell_type": "code",
   "execution_count": 15,
   "metadata": {
    "collapsed": false
   },
   "outputs": [
    {
     "name": "stderr",
     "output_type": "stream",
     "text": [
      "/usr/lib/python3/dist-packages/pandas/tools/merge.py:536: UserWarning: merging between different levels can give an unintended result (1 levels on the left, 2 on the right)\n",
      "  warnings.warn(msg, UserWarning)\n"
     ]
    }
   ],
   "source": [
    "tmp = test[['Date', 'Plate', 'Concentration', 'Luc']].groupby(['Date', 'Plate', 'Concentration']).mean().unstack()\n",
    "#np.log(tmp.Luc).hist()\n",
    "((tmp.Luc[10]/tmp.Luc[0])).min()\n",
    "primary = primary.join(tmp, on=['Date','Plate'])\n",
    "\n",
    "primary['Luc_0'] = primary[('Luc',0)]\n",
    "primary['Luc_10'] = primary[('Luc',10)]"
   ]
  },
  {
   "cell_type": "code",
   "execution_count": 16,
   "metadata": {
    "collapsed": false,
    "scrolled": true
   },
   "outputs": [
    {
     "data": {
      "text/html": [
       "<div>\n",
       "<table border=\"1\" class=\"dataframe\">\n",
       "  <thead>\n",
       "    <tr>\n",
       "      <th></th>\n",
       "      <th></th>\n",
       "      <th colspan=\"2\" halign=\"left\">Luc</th>\n",
       "    </tr>\n",
       "    <tr>\n",
       "      <th></th>\n",
       "      <th>Concentration</th>\n",
       "      <th>0.0</th>\n",
       "      <th>10.0</th>\n",
       "    </tr>\n",
       "    <tr>\n",
       "      <th>Date</th>\n",
       "      <th>Plate</th>\n",
       "      <th></th>\n",
       "      <th></th>\n",
       "    </tr>\n",
       "  </thead>\n",
       "  <tbody>\n",
       "    <tr>\n",
       "      <th rowspan=\"5\" valign=\"top\">61009</th>\n",
       "      <th>1</th>\n",
       "      <td>5516.666667</td>\n",
       "      <td>22742.000000</td>\n",
       "    </tr>\n",
       "    <tr>\n",
       "      <th>2</th>\n",
       "      <td>6878.000000</td>\n",
       "      <td>23708.666667</td>\n",
       "    </tr>\n",
       "    <tr>\n",
       "      <th>3</th>\n",
       "      <td>6052.000000</td>\n",
       "      <td>22227.333333</td>\n",
       "    </tr>\n",
       "    <tr>\n",
       "      <th>4</th>\n",
       "      <td>6392.666667</td>\n",
       "      <td>21615.333333</td>\n",
       "    </tr>\n",
       "    <tr>\n",
       "      <th>5</th>\n",
       "      <td>6697.333333</td>\n",
       "      <td>21426.000000</td>\n",
       "    </tr>\n",
       "  </tbody>\n",
       "</table>\n",
       "</div>"
      ],
      "text/plain": [
       "                       Luc              \n",
       "Concentration         0.0           10.0\n",
       "Date  Plate                             \n",
       "61009 1        5516.666667  22742.000000\n",
       "      2        6878.000000  23708.666667\n",
       "      3        6052.000000  22227.333333\n",
       "      4        6392.666667  21615.333333\n",
       "      5        6697.333333  21426.000000"
      ]
     },
     "execution_count": 16,
     "metadata": {},
     "output_type": "execute_result"
    }
   ],
   "source": [
    "tmp.head()"
   ]
  },
  {
   "cell_type": "markdown",
   "metadata": {},
   "source": [
    "Let us fine a receptor to test our idea on:"
   ]
  },
  {
   "cell_type": "code",
   "execution_count": 17,
   "metadata": {
    "collapsed": false
   },
   "outputs": [
    {
     "data": {
      "text/plain": [
       "pseudo      3708\n",
       "Olfr544     3252\n",
       "Olfr1341     458\n",
       "Olfr73       458\n",
       "OR2T5        300\n",
       "Name: Gene, dtype: int64"
      ]
     },
     "execution_count": 17,
     "metadata": {},
     "output_type": "execute_result"
    }
   ],
   "source": [
    "primary.Gene.value_counts().head()"
   ]
  },
  {
   "cell_type": "code",
   "execution_count": 18,
   "metadata": {
    "collapsed": false
   },
   "outputs": [
    {
     "data": {
      "text/plain": [
       "no odor           38\n",
       "heptaldehyde      13\n",
       "eugenol           11\n",
       "r-limonene        11\n",
       "ethyl vanillin    11\n",
       "Name: OdorName, dtype: int64"
      ]
     },
     "execution_count": 18,
     "metadata": {},
     "output_type": "execute_result"
    }
   ],
   "source": [
    "primary[primary.Gene == 'Olfr1341'].OdorName.value_counts().head()"
   ]
  },
  {
   "cell_type": "markdown",
   "metadata": {},
   "source": [
    "second most used receptors are *Olfr1341* and *Olfr73*. "
   ]
  },
  {
   "cell_type": "code",
   "execution_count": 19,
   "metadata": {
    "collapsed": false
   },
   "outputs": [
    {
     "data": {
      "text/plain": [
       "no odor           38\n",
       "heptaldehyde      13\n",
       "eugenol           11\n",
       "r-limonene        11\n",
       "ethyl vanillin    11\n",
       "Name: OdorName, dtype: int64"
      ]
     },
     "execution_count": 19,
     "metadata": {},
     "output_type": "execute_result"
    }
   ],
   "source": [
    "primary[primary.Gene == 'Olfr73'].OdorName.value_counts().head()"
   ]
  },
  {
   "cell_type": "code",
   "execution_count": 20,
   "metadata": {
    "collapsed": false
   },
   "outputs": [
    {
     "data": {
      "text/plain": [
       "no odor           25\n",
       "heptaldehyde      10\n",
       "ethyl vanillin     8\n",
       "r-limonene         8\n",
       "eugenol            8\n",
       "Name: OdorName, dtype: int64"
      ]
     },
     "execution_count": 20,
     "metadata": {},
     "output_type": "execute_result"
    }
   ],
   "source": [
    "primary[primary.Gene == 'OR2T5'].OdorName.value_counts().head()"
   ]
  },
  {
   "cell_type": "markdown",
   "metadata": {},
   "source": [
    "For the two receptor we have 38 baseline reading and 13 response to heptaldehyde."
   ]
  },
  {
   "cell_type": "code",
   "execution_count": 21,
   "metadata": {
    "collapsed": false
   },
   "outputs": [
    {
     "data": {
      "image/png": "[encoded data removed]",
      "text/plain": [
       "<matplotlib.figure.Figure at 0x7f15dae79208>"
      ]
     },
     "metadata": {},
     "output_type": "display_data"
    }
   ],
   "source": [
    "primary[(primary.OdorName == 'no odor') & (primary.Gene == 'Olfr1341') & (~primary.has_c_1)].plot(kind='scatter', x=('Luc',0), y='Luc');"
   ]
  },
  {
   "cell_type": "code",
   "execution_count": 22,
   "metadata": {
    "collapsed": false
   },
   "outputs": [
    {
     "data": {
      "image/png": "[encoded data removed]",
      "text/plain": [
       "<matplotlib.figure.Figure at 0x7f15dae792e8>"
      ]
     },
     "metadata": {},
     "output_type": "display_data"
    }
   ],
   "source": [
    "primary[(primary.OdorName == 'no odor') & (primary.Gene == 'Olfr73') & (~primary.has_c_1)].plot(kind='scatter', x=('Luc',0), y='Luc');\n",
    "plt.title('Olfr73')\n",
    "plt.savefig('../fig/Olfr73.pdf')"
   ]
  },
  {
   "cell_type": "code",
   "execution_count": 23,
   "metadata": {
    "collapsed": false
   },
   "outputs": [
    {
     "data": {
      "image/png": "[encoded data removed]",
      "text/plain": [
       "<matplotlib.figure.Figure at 0x7f15d8685438>"
      ]
     },
     "metadata": {},
     "output_type": "display_data"
    }
   ],
   "source": [
    "primary[(primary.OdorName == 'no odor') & (primary.Gene == 'OR2T5') & (~primary.has_c_1)].plot(kind='scatter', x=('Luc',0), y='Luc');"
   ]
  },
  {
   "cell_type": "markdown",
   "metadata": {},
   "source": [
    "## Correlations\n",
    "Correlation among Luc, RL and mean Luc of baseline (Luc_0) and signal (Luc_10) test wells on the same plate. "
   ]
  },
  {
   "cell_type": "code",
   "execution_count": 24,
   "metadata": {
    "collapsed": false
   },
   "outputs": [
    {
     "data": {
      "text/html": [
       "<div>\n",
       "<table border=\"1\" class=\"dataframe\">\n",
       "  <thead>\n",
       "    <tr style=\"text-align: right;\">\n",
       "      <th></th>\n",
       "      <th>Luc</th>\n",
       "      <th>RL</th>\n",
       "      <th>Luc_0</th>\n",
       "      <th>Luc_10</th>\n",
       "    </tr>\n",
       "  </thead>\n",
       "  <tbody>\n",
       "    <tr>\n",
       "      <th>Luc</th>\n",
       "      <td>1.000000</td>\n",
       "      <td>-0.109871</td>\n",
       "      <td>0.454975</td>\n",
       "      <td>0.381440</td>\n",
       "    </tr>\n",
       "    <tr>\n",
       "      <th>RL</th>\n",
       "      <td>-0.109871</td>\n",
       "      <td>1.000000</td>\n",
       "      <td>-0.121185</td>\n",
       "      <td>-0.243047</td>\n",
       "    </tr>\n",
       "    <tr>\n",
       "      <th>Luc_0</th>\n",
       "      <td>0.454975</td>\n",
       "      <td>-0.121185</td>\n",
       "      <td>1.000000</td>\n",
       "      <td>0.561889</td>\n",
       "    </tr>\n",
       "    <tr>\n",
       "      <th>Luc_10</th>\n",
       "      <td>0.381440</td>\n",
       "      <td>-0.243047</td>\n",
       "      <td>0.561889</td>\n",
       "      <td>1.000000</td>\n",
       "    </tr>\n",
       "  </tbody>\n",
       "</table>\n",
       "</div>"
      ],
      "text/plain": [
       "             Luc        RL     Luc_0    Luc_10\n",
       "Luc     1.000000 -0.109871  0.454975  0.381440\n",
       "RL     -0.109871  1.000000 -0.121185 -0.243047\n",
       "Luc_0   0.454975 -0.121185  1.000000  0.561889\n",
       "Luc_10  0.381440 -0.243047  0.561889  1.000000"
      ]
     },
     "execution_count": 24,
     "metadata": {},
     "output_type": "execute_result"
    }
   ],
   "source": [
    "# Olfr1341 and no odor\n",
    "primary.loc[(primary.OdorName == 'no odor') & (primary.Gene == 'Olfr1341') & (~primary.has_c_1), ['Luc', 'RL', 'Luc_0', 'Luc_10']].corr()"
   ]
  },
  {
   "cell_type": "code",
   "execution_count": 25,
   "metadata": {
    "collapsed": false
   },
   "outputs": [
    {
     "data": {
      "text/html": [
       "<div>\n",
       "<table border=\"1\" class=\"dataframe\">\n",
       "  <thead>\n",
       "    <tr style=\"text-align: right;\">\n",
       "      <th></th>\n",
       "      <th>Luc</th>\n",
       "      <th>RL</th>\n",
       "      <th>Luc_0</th>\n",
       "      <th>Luc_10</th>\n",
       "    </tr>\n",
       "  </thead>\n",
       "  <tbody>\n",
       "    <tr>\n",
       "      <th>Luc</th>\n",
       "      <td>1.000000</td>\n",
       "      <td>-0.098649</td>\n",
       "      <td>0.773972</td>\n",
       "      <td>0.333297</td>\n",
       "    </tr>\n",
       "    <tr>\n",
       "      <th>RL</th>\n",
       "      <td>-0.098649</td>\n",
       "      <td>1.000000</td>\n",
       "      <td>-0.141776</td>\n",
       "      <td>-0.315375</td>\n",
       "    </tr>\n",
       "    <tr>\n",
       "      <th>Luc_0</th>\n",
       "      <td>0.773972</td>\n",
       "      <td>-0.141776</td>\n",
       "      <td>1.000000</td>\n",
       "      <td>0.561889</td>\n",
       "    </tr>\n",
       "    <tr>\n",
       "      <th>Luc_10</th>\n",
       "      <td>0.333297</td>\n",
       "      <td>-0.315375</td>\n",
       "      <td>0.561889</td>\n",
       "      <td>1.000000</td>\n",
       "    </tr>\n",
       "  </tbody>\n",
       "</table>\n",
       "</div>"
      ],
      "text/plain": [
       "             Luc        RL     Luc_0    Luc_10\n",
       "Luc     1.000000 -0.098649  0.773972  0.333297\n",
       "RL     -0.098649  1.000000 -0.141776 -0.315375\n",
       "Luc_0   0.773972 -0.141776  1.000000  0.561889\n",
       "Luc_10  0.333297 -0.315375  0.561889  1.000000"
      ]
     },
     "execution_count": 25,
     "metadata": {},
     "output_type": "execute_result"
    }
   ],
   "source": [
    "# Olfr73 and no odor\n",
    "primary.loc[(primary.OdorName == 'no odor') & (primary.Gene == 'Olfr73') & (~primary.has_c_1), ['Luc', 'RL', 'Luc_0', 'Luc_10']].corr()"
   ]
  },
  {
   "cell_type": "code",
   "execution_count": 26,
   "metadata": {
    "collapsed": false
   },
   "outputs": [
    {
     "data": {
      "text/html": [
       "<div>\n",
       "<table border=\"1\" class=\"dataframe\">\n",
       "  <thead>\n",
       "    <tr style=\"text-align: right;\">\n",
       "      <th></th>\n",
       "      <th>Luc</th>\n",
       "      <th>RL</th>\n",
       "      <th>Luc_0</th>\n",
       "      <th>Luc_10</th>\n",
       "    </tr>\n",
       "  </thead>\n",
       "  <tbody>\n",
       "    <tr>\n",
       "      <th>Luc</th>\n",
       "      <td>1.000000</td>\n",
       "      <td>0.478491</td>\n",
       "      <td>0.522445</td>\n",
       "      <td>0.159496</td>\n",
       "    </tr>\n",
       "    <tr>\n",
       "      <th>RL</th>\n",
       "      <td>0.478491</td>\n",
       "      <td>1.000000</td>\n",
       "      <td>0.044840</td>\n",
       "      <td>-0.241016</td>\n",
       "    </tr>\n",
       "    <tr>\n",
       "      <th>Luc_0</th>\n",
       "      <td>0.522445</td>\n",
       "      <td>0.044840</td>\n",
       "      <td>1.000000</td>\n",
       "      <td>0.695992</td>\n",
       "    </tr>\n",
       "    <tr>\n",
       "      <th>Luc_10</th>\n",
       "      <td>0.159496</td>\n",
       "      <td>-0.241016</td>\n",
       "      <td>0.695992</td>\n",
       "      <td>1.000000</td>\n",
       "    </tr>\n",
       "  </tbody>\n",
       "</table>\n",
       "</div>"
      ],
      "text/plain": [
       "             Luc        RL     Luc_0    Luc_10\n",
       "Luc     1.000000  0.478491  0.522445  0.159496\n",
       "RL      0.478491  1.000000  0.044840 -0.241016\n",
       "Luc_0   0.522445  0.044840  1.000000  0.695992\n",
       "Luc_10  0.159496 -0.241016  0.695992  1.000000"
      ]
     },
     "execution_count": 26,
     "metadata": {},
     "output_type": "execute_result"
    }
   ],
   "source": [
    "# OR2T5 and no odor\n",
    "primary.loc[(primary.OdorName == 'no odor') & (primary.Gene == 'OR2T5') & (~primary.has_c_1), ['Luc', 'RL', 'Luc_0', 'Luc_10']].corr()"
   ]
  },
  {
   "cell_type": "code",
   "execution_count": 27,
   "metadata": {
    "collapsed": false
   },
   "outputs": [
    {
     "data": {
      "text/html": [
       "<div>\n",
       "<table border=\"1\" class=\"dataframe\">\n",
       "  <thead>\n",
       "    <tr style=\"text-align: right;\">\n",
       "      <th></th>\n",
       "      <th>Luc</th>\n",
       "      <th>RL</th>\n",
       "      <th>Luc_0</th>\n",
       "      <th>Luc_10</th>\n",
       "    </tr>\n",
       "  </thead>\n",
       "  <tbody>\n",
       "    <tr>\n",
       "      <th>Luc</th>\n",
       "      <td>1.000000</td>\n",
       "      <td>0.746641</td>\n",
       "      <td>0.646273</td>\n",
       "      <td>0.609538</td>\n",
       "    </tr>\n",
       "    <tr>\n",
       "      <th>RL</th>\n",
       "      <td>0.746641</td>\n",
       "      <td>1.000000</td>\n",
       "      <td>0.716677</td>\n",
       "      <td>0.441725</td>\n",
       "    </tr>\n",
       "    <tr>\n",
       "      <th>Luc_0</th>\n",
       "      <td>0.646273</td>\n",
       "      <td>0.716677</td>\n",
       "      <td>1.000000</td>\n",
       "      <td>0.675458</td>\n",
       "    </tr>\n",
       "    <tr>\n",
       "      <th>Luc_10</th>\n",
       "      <td>0.609538</td>\n",
       "      <td>0.441725</td>\n",
       "      <td>0.675458</td>\n",
       "      <td>1.000000</td>\n",
       "    </tr>\n",
       "  </tbody>\n",
       "</table>\n",
       "</div>"
      ],
      "text/plain": [
       "             Luc        RL     Luc_0    Luc_10\n",
       "Luc     1.000000  0.746641  0.646273  0.609538\n",
       "RL      0.746641  1.000000  0.716677  0.441725\n",
       "Luc_0   0.646273  0.716677  1.000000  0.675458\n",
       "Luc_10  0.609538  0.441725  0.675458  1.000000"
      ]
     },
     "execution_count": 27,
     "metadata": {},
     "output_type": "execute_result"
    }
   ],
   "source": [
    "# Olfr1341 and heptaldehyde\n",
    "primary.loc[(primary.OdorName == 'heptaldehyde') & (primary.Gene == 'Olfr1341') & (~primary.has_c_1), ['Luc', 'RL', 'Luc_0', 'Luc_10']].corr()"
   ]
  },
  {
   "cell_type": "code",
   "execution_count": 28,
   "metadata": {
    "collapsed": false
   },
   "outputs": [
    {
     "data": {
      "text/html": [
       "<div>\n",
       "<table border=\"1\" class=\"dataframe\">\n",
       "  <thead>\n",
       "    <tr style=\"text-align: right;\">\n",
       "      <th></th>\n",
       "      <th>Luc</th>\n",
       "      <th>RL</th>\n",
       "      <th>Luc_0</th>\n",
       "      <th>Luc_10</th>\n",
       "    </tr>\n",
       "  </thead>\n",
       "  <tbody>\n",
       "    <tr>\n",
       "      <th>Luc</th>\n",
       "      <td>1.000000</td>\n",
       "      <td>0.627169</td>\n",
       "      <td>0.819097</td>\n",
       "      <td>0.648033</td>\n",
       "    </tr>\n",
       "    <tr>\n",
       "      <th>RL</th>\n",
       "      <td>0.627169</td>\n",
       "      <td>1.000000</td>\n",
       "      <td>0.565652</td>\n",
       "      <td>0.211296</td>\n",
       "    </tr>\n",
       "    <tr>\n",
       "      <th>Luc_0</th>\n",
       "      <td>0.819097</td>\n",
       "      <td>0.565652</td>\n",
       "      <td>1.000000</td>\n",
       "      <td>0.675458</td>\n",
       "    </tr>\n",
       "    <tr>\n",
       "      <th>Luc_10</th>\n",
       "      <td>0.648033</td>\n",
       "      <td>0.211296</td>\n",
       "      <td>0.675458</td>\n",
       "      <td>1.000000</td>\n",
       "    </tr>\n",
       "  </tbody>\n",
       "</table>\n",
       "</div>"
      ],
      "text/plain": [
       "             Luc        RL     Luc_0    Luc_10\n",
       "Luc     1.000000  0.627169  0.819097  0.648033\n",
       "RL      0.627169  1.000000  0.565652  0.211296\n",
       "Luc_0   0.819097  0.565652  1.000000  0.675458\n",
       "Luc_10  0.648033  0.211296  0.675458  1.000000"
      ]
     },
     "execution_count": 28,
     "metadata": {},
     "output_type": "execute_result"
    }
   ],
   "source": [
    "# Olfr73 and heptaldehyde\n",
    "primary.loc[(primary.OdorName == 'heptaldehyde') & (primary.Gene == 'Olfr73') & (~primary.has_c_1), ['Luc', 'RL', 'Luc_0', 'Luc_10']].corr()"
   ]
  },
  {
   "cell_type": "code",
   "execution_count": 29,
   "metadata": {
    "collapsed": false
   },
   "outputs": [
    {
     "data": {
      "text/html": [
       "<div>\n",
       "<table border=\"1\" class=\"dataframe\">\n",
       "  <thead>\n",
       "    <tr style=\"text-align: right;\">\n",
       "      <th></th>\n",
       "      <th>Luc</th>\n",
       "      <th>RL</th>\n",
       "      <th>Luc_0</th>\n",
       "      <th>Luc_10</th>\n",
       "    </tr>\n",
       "  </thead>\n",
       "  <tbody>\n",
       "    <tr>\n",
       "      <th>Luc</th>\n",
       "      <td>1.000000</td>\n",
       "      <td>0.550199</td>\n",
       "      <td>0.363380</td>\n",
       "      <td>0.230021</td>\n",
       "    </tr>\n",
       "    <tr>\n",
       "      <th>RL</th>\n",
       "      <td>0.550199</td>\n",
       "      <td>1.000000</td>\n",
       "      <td>0.129989</td>\n",
       "      <td>-0.126565</td>\n",
       "    </tr>\n",
       "    <tr>\n",
       "      <th>Luc_0</th>\n",
       "      <td>0.363380</td>\n",
       "      <td>0.129989</td>\n",
       "      <td>1.000000</td>\n",
       "      <td>0.914538</td>\n",
       "    </tr>\n",
       "    <tr>\n",
       "      <th>Luc_10</th>\n",
       "      <td>0.230021</td>\n",
       "      <td>-0.126565</td>\n",
       "      <td>0.914538</td>\n",
       "      <td>1.000000</td>\n",
       "    </tr>\n",
       "  </tbody>\n",
       "</table>\n",
       "</div>"
      ],
      "text/plain": [
       "             Luc        RL     Luc_0    Luc_10\n",
       "Luc     1.000000  0.550199  0.363380  0.230021\n",
       "RL      0.550199  1.000000  0.129989 -0.126565\n",
       "Luc_0   0.363380  0.129989  1.000000  0.914538\n",
       "Luc_10  0.230021 -0.126565  0.914538  1.000000"
      ]
     },
     "execution_count": 29,
     "metadata": {},
     "output_type": "execute_result"
    }
   ],
   "source": [
    "# OR2T5 and heptaldehyde\n",
    "primary.loc[(primary.OdorName == 'heptaldehyde') & (primary.Gene == 'OR2T5') & (~primary.has_c_1), ['Luc', 'RL', 'Luc_0', 'Luc_10']].corr()"
   ]
  },
  {
   "cell_type": "code",
   "execution_count": 30,
   "metadata": {
    "collapsed": false
   },
   "outputs": [],
   "source": [
    "primary.to_csv('../data/PrimaryScreen_cleaned.tsv', sep='\\t', index = False)"
   ]
  },
  {
   "cell_type": "markdown",
   "metadata": {},
   "source": [
    "## Conclusion\n",
    "\n",
    "For both receptors the correlation between Luc and RL of the same well can vary from -0.1 to 0.74.\n",
    "But the correlation between Luc of that well and the average Luc of baseline test wells on the same plate is in the range of 0.45 to 0.81. \n",
    "Therefore we suggest that for the given data, plates should be normalized by the mean of baseline test well.\n",
    "\n",
    "Further experimental investigation is recommended. "
   ]
  },
  {
   "cell_type": "code",
   "execution_count": null,
   "metadata": {
    "collapsed": true
   },
   "outputs": [],
   "source": []
  }
 ],
 "metadata": {
  "anaconda-cloud": {},
  "kernelspec": {
   "display_name": "Python 3",
   "language": "python",
   "name": "python3"
  },
  "language_info": {
   "codemirror_mode": {
    "name": "ipython",
    "version": 3
   },
   "file_extension": ".py",
   "mimetype": "text/x-python",
   "name": "python",
   "nbconvert_exporter": "python",
   "pygments_lexer": "ipython3",
   "version": "3.5.3+"
  }
 },
 "nbformat": 4,
 "nbformat_minor": 0
}
